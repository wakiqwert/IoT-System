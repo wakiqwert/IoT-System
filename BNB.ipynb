{
 "cells": [
  {
   "cell_type": "code",
   "execution_count": 43,
   "metadata": {},
   "outputs": [
    {
     "name": "stdout",
     "output_type": "stream",
     "text": [
      "       Sno  Temperature    PH    EC             DateTime\n",
      "1903  2046        23.37  7.64  2.23  1652225070460000000\n",
      "5358  5501        24.25  8.22  1.63  1655350541887000000\n",
      "5248  5391        24.19  8.13  1.72  1655251541477000000\n",
      "1025  1168        23.37  8.16  1.52  1651424082973000000\n",
      "3276  3419        23.56  7.75  2.14  1653461675727000000\n",
      "3889  4032        25.37  8.30  1.40  1654016214340000000\n",
      "6218  6361        22.81  7.89  2.11  1656132912877000000\n",
      "597    740        23.44  7.94  1.96  1651038881190000000\n",
      "1058  1201        23.37  7.94  1.93  1651453782877000000\n",
      "4471  4614        25.87  8.19  1.49  1654540016567000000\n",
      "3864  4007        25.37  8.35  1.37  1653993714430000000\n",
      "5832  5975        23.56  7.83  2.02  1655785511433000000\n",
      "4817  4960        24.37  7.91  2.14  1654861581553000000\n",
      "942   1085        23.37  7.94  1.72  1651349382670000000\n",
      "868   1011        23.37  8.13  1.52  1651282782227000000\n",
      "2909  3052        23.31  8.05  1.57  1653131374300000000\n",
      "4135  4278        25.62  8.35  1.34  1654237615400000000\n",
      "2370  2513        23.37  8.08  1.54  1652646272320000000\n",
      "3248  3391        23.50  8.05  1.75  1653436475413000000\n",
      "278    421        23.44  7.89  1.93  1650751780057000000\n",
      "2510  2653        23.37  7.72  2.14  1652772272820000000\n",
      "6098  6241        23.00  7.67  2.20  1656024912477000000\n",
      "2725  2868        23.31  7.67  2.17  1652965773507000000\n",
      "2951  3094        23.31  7.89  1.72  1653169174300000000\n",
      "5482  5625        21.19  7.58  2.56  1655465586097000000\n",
      "5325  5468        24.25  7.89  2.14  1655320841607000000\n",
      "1247  1390        23.31  7.72  2.20  1651623883810000000\n",
      "4740  4883        24.37  8.27  1.60  1654792281493000000\n",
      "2278  2421        23.37  7.72  2.14  1652563471937000000\n",
      "5908  6051        23.37  7.86  1.96  1655853911677000000\n",
      "...    ...          ...   ...   ...                  ...\n",
      "1375  1518        23.31  8.16  1.52  1651739084117000000\n",
      "1326  1469        23.31  8.19  1.52  1651694983910000000\n",
      "3780  3923        25.25  8.00  1.78  1653918113957000000\n",
      "5208  5351        24.19  7.89  2.17  1655215541263000000\n",
      "1349  1492        23.31  8.11  1.60  1651715684057000000\n",
      "255    398        23.44  8.16  1.46  1650731080043000000\n",
      "4988  5131        24.19  8.27  1.63  1655017540430000000\n",
      "3642  3785        23.37  8.11  1.54  1653791077117000000\n",
      "3622  3765        23.37  7.94  1.84  1653773076863000000\n",
      "4147  4290        25.62  8.33  1.37  1654248415630000000\n",
      "4971  5114        24.19  8.11  1.90  1655002240300000000\n",
      "5034  5177        24.19  8.24  1.63  1655058940687000000\n",
      "5222  5365        24.19  7.94  2.14  1655228141377000000\n",
      "5315  5458        24.25  8.30  1.63  1655311841617000000\n",
      "2727  2870        23.31  8.08  1.69  1652967573650000000\n",
      "3700  3843        23.37  7.72  2.08  1653843277183000000\n",
      "124    267        23.50  8.16  1.54  1650613179410000000\n",
      "2778  2921        23.31  8.08  1.54  1653013473797000000\n",
      "2879  3022        23.31  7.78  2.11  1653104374097000000\n",
      "5167  5310        24.19  8.02  2.02  1655178641087000000\n",
      "2773  2916        23.37  7.67  2.20  1653008973863000000\n",
      "2635  2778        23.37  8.08  1.54  1652884773220000000\n",
      "433    576        23.44  8.16  1.52  1650891280607000000\n",
      "4770  4913        24.37  8.27  1.60  1654819281367000000\n",
      "3335  3478        23.50  7.67  2.20  1653514775907000000\n",
      "1099  1242        23.37  8.11  1.57  1651490683193000000\n",
      "2514  2657        23.37  7.69  2.14  1652775872883000000\n",
      "3606  3749        23.37  8.00  1.84  1653758676830000000\n",
      "5704  5847        23.75  7.50  2.20  1655670310960000000\n",
      "2575  2718        23.37  7.83  1.81  1652830772957000000\n",
      "\n",
      "[4782 rows x 5 columns]\n",
      "1903    1\n",
      "5358    0\n",
      "5248    1\n",
      "1025    0\n",
      "3276    1\n",
      "3889    0\n",
      "6218    0\n",
      "597     0\n",
      "1058    1\n",
      "4471    1\n",
      "3864    0\n",
      "5832    1\n",
      "4817    1\n",
      "942     0\n",
      "868     0\n",
      "2909    0\n",
      "4135    1\n",
      "2370    1\n",
      "3248    1\n",
      "278     0\n",
      "2510    1\n",
      "6098    1\n",
      "2725    1\n",
      "2951    0\n",
      "5482    1\n",
      "5325    0\n",
      "1247    1\n",
      "4740    0\n",
      "2278    1\n",
      "5908    1\n",
      "       ..\n",
      "1375    0\n",
      "1326    0\n",
      "3780    0\n",
      "5208    1\n",
      "1349    1\n",
      "255     1\n",
      "4988    0\n",
      "3642    0\n",
      "3622    0\n",
      "4147    1\n",
      "4971    0\n",
      "5034    1\n",
      "5222    1\n",
      "5315    1\n",
      "2727    1\n",
      "3700    0\n",
      "124     1\n",
      "2778    0\n",
      "2879    1\n",
      "5167    1\n",
      "2773    0\n",
      "2635    1\n",
      "433     0\n",
      "4770    0\n",
      "3335    1\n",
      "1099    0\n",
      "2514    1\n",
      "3606    0\n",
      "5704    1\n",
      "2575    1\n",
      "Name: Fertility, Length: 4782, dtype: int64\n"
     ]
    }
   ],
   "source": [
    "import numpy as np\n",
    "import pandas as pd\n",
    "import pickle as pk\n",
    "import seaborn as sns\n",
    "import matplotlib.pyplot as plt\n",
    "\n",
    "# Import necessary scikit-learn libraries\n",
    "from sklearn.model_selection import train_test_split\n",
    "from sklearn.preprocessing import StandardScaler\n",
    "\n",
    "from sklearn import preprocessing\n",
    "\n",
    "# Loading the dataset from the /data folder here \n",
    "data_path = 'data/C379_ESE_Dataset.csv'\n",
    "\n",
    "# Read your csv file here ...\n",
    "currentdf  = pd.read_csv(data_path, engine=\"python\")\n",
    "\n",
    "#converting the datetime to the integer.(Epoch Unix) \n",
    "currentdf['DateTime'] = pd.to_datetime(currentdf['DateTime']).dt.tz_localize(tz='Asia/Singapore')\n",
    "currentdf['DateTime'] = currentdf['DateTime'].astype({'DateTime':'int64'})\n",
    "\n",
    "#currentdf['Hour'] = currentdf['DateTime']\n",
    "#currentdf['Hour'] = pd.to_datetime(currentdf['DateTime']).dt.hour\n",
    "\n",
    "# Allocate your training data and label \n",
    "x = currentdf.iloc[:, [True,False,True,True,True,False,True]]\n",
    "y = currentdf.iloc[:, 5]\n",
    "\n",
    "# Splitting dataset into 75% for training and 25% for testing here ...\n",
    "X_train, X_test, y_train, y_test = train_test_split(x, y, test_size=0.25, random_state=2)\n",
    "\n",
    "# Display the features and label from the training set \n",
    "print (X_train)\n",
    "print (y_train)\n",
    "\n",
    "# Insert code to standardize your dataset here ...\n",
    "mean = np.mean(X_train)\n",
    "stddev = np.std(X_train)\n",
    "X_train_sc = (X_train - mean) / stddev\n",
    "X_test_sc = (X_test - mean) / stddev"
   ]
  },
  {
   "cell_type": "code",
   "execution_count": 44,
   "metadata": {},
   "outputs": [
    {
     "name": "stdout",
     "output_type": "stream",
     "text": [
      "Training Accuracy: 0.5225846925972396\n",
      "Test Accuracy: 0.5379310344827586\n"
     ]
    }
   ],
   "source": [
    "# Import necessary scikit-learn libraries\n",
    "from sklearn.metrics import accuracy_score\n",
    "from sklearn.naive_bayes import BernoulliNB\n",
    "\n",
    "# instantiate model\n",
    "bnb = BernoulliNB(binarize=0.0)\n",
    "\n",
    "#Train the model and create predictions\n",
    "bnb.fit(X_train_sc, y_train)\n",
    "\n",
    "# Predicting on the train dataset \n",
    "y_pred_train = bnb.predict(X_train_sc)\n",
    "train_acc = accuracy_score(y_train, y_pred_train)\n",
    "\n",
    "# Predicting on the test dataset \n",
    "y_pred_test = bnb.predict(X_test_sc)\n",
    "test_acc = accuracy_score(y_test, y_pred_test)\n",
    "\n",
    "# Print training accuracy\n",
    "print(\"Training Accuracy: \" + str(train_acc))\n",
    "\n",
    "# Print testing accuracy\n",
    "print(\"Test Accuracy: \" + str(test_acc))"
   ]
  },
  {
   "cell_type": "code",
   "execution_count": 36,
   "metadata": {},
   "outputs": [
    {
     "data": {
      "image/png": "[encoded data removed]",
      "text/plain": [
       "<matplotlib.figure.Figure at 0x200683d82e8>"
      ]
     },
     "metadata": {
      "needs_background": "light"
     },
     "output_type": "display_data"
    },
    {
     "name": "stdout",
     "output_type": "stream",
     "text": [
      "Model Score 0.5379310344827586\n"
     ]
    }
   ],
   "source": [
    "from sklearn.metrics import confusion_matrix\n",
    "import seaborn as sns\n",
    "\n",
    "# Determine the accuracy of the model\n",
    "score = bnb.score(X_test_sc, y_test)\n",
    "\n",
    "# Provide necessary label\n",
    "class_label=[0, 1]\n",
    "\n",
    "\n",
    "\n",
    "cm = confusion_matrix(y_test, gnb.predict(X_test_sc), labels=class_label)\n",
    "\n",
    "axes = sns.heatmap(cm, square=True, annot=True, fmt ='d', cbar=True, cmap=plt.cm.GnBu)\n",
    "axes.set_ylabel('Actual')\n",
    "axes.set_ylabel('Predication')\n",
    "tick_marks = np.arange(len(class_label)) + 0.5\n",
    "axes.set_xticks(tick_marks)\n",
    "axes.set_xticklabels(class_label, rotation = 90)\n",
    "axes.set_yticks(tick_marks)\n",
    "axes.set_yticklabels(class_label, rotation = 0)\n",
    "axes.set_title('Confusion Matrix')\n",
    "plt.show()\n",
    "\n",
    "print(\"Model Score {}\" .format(score))"
   ]
  },
  {
   "cell_type": "code",
   "execution_count": 37,
   "metadata": {},
   "outputs": [
    {
     "name": "stdout",
     "output_type": "stream",
     "text": [
      "Accuracy: 53.8%, Precision: 53.7%, Recall: 53.7%, F1 Score: 53.5%\n"
     ]
    }
   ],
   "source": [
    "from sklearn.metrics import accuracy_score, precision_score, recall_score, f1_score\n",
    "\n",
    "accuracy = accuracy_score(y_test, y_pred_test)\n",
    "precision = precision_score(y_test, y_pred_test, average='macro')\n",
    "recall = recall_score(y_test, y_pred_test, average='macro')\n",
    "f1 = f1_score(y_test, y_pred_test, average='macro')\n",
    "\n",
    "print (\"Accuracy: {:0.1f}%, Precision: {:0.1f}%, Recall: {:0.1f}%, F1 Score: {:0.1f}%\".format(100*accuracy, 100* precision, 100*recall, 100*f1))"
   ]
  },
  {
   "cell_type": "code",
   "execution_count": 38,
   "metadata": {},
   "outputs": [
    {
     "data": {
      "text/plain": [
       "{'binarize': 0.657933224657568}"
      ]
     },
     "execution_count": 38,
     "metadata": {},
     "output_type": "execute_result"
    }
   ],
   "source": [
    "from sklearn.model_selection import train_test_split, cross_val_score, GridSearchCV, RandomizedSearchCV\n",
    "\n",
    "params_NB = {'binarize':np.logspace(0,-9, num=100)} \n",
    "            \n",
    "\n",
    "gnb_grid = GridSearchCV(estimator=bnb, param_grid=params_NB, n_jobs=-1)\n",
    "search = gnb_grid.fit(X_train_sc, y_train)\n",
    "search.best_params_"
   ]
  },
  {
   "cell_type": "code",
   "execution_count": 39,
   "metadata": {},
   "outputs": [
    {
     "name": "stdout",
     "output_type": "stream",
     "text": [
      "Accuracy: 56.8%, Precision: 57.5%, Recall: 56.5%, F1 Score: 55.2%\n"
     ]
    }
   ],
   "source": [
    "# instantiate the model (using the default parameters)\n",
    "tune = BernoulliNB(binarize=0.657933224657568)\n",
    "\n",
    "# Use the training data to train the predictor\n",
    "tune.fit(X_train_sc, y_train)\n",
    "\n",
    "# Predicting on the train dataset\n",
    "y_pred_train = tune.predict(X_train_sc)   \n",
    "\n",
    "# Predicting on the test dataset\n",
    "y_pred_test = tune.predict(X_test_sc)\n",
    "\n",
    "from sklearn.metrics import accuracy_score, precision_score, recall_score, f1_score\n",
    "\n",
    "accuracyTune = accuracy_score(y_test, y_pred_test)\n",
    "precisionTune = precision_score(y_test, y_pred_test, average='macro')\n",
    "recallTune = recall_score(y_test, y_pred_test, average='macro')\n",
    "f1Tune = f1_score(y_test, y_pred_test, average='macro')\n",
    "\n",
    "print (\"Accuracy: {:0.1f}%, Precision: {:0.1f}%, Recall: {:0.1f}%, F1 Score: {:0.1f}%\".format(100*accuracyTune, 100* precisionTune, 100*recallTune, 100*f1Tune))"
   ]
  },
  {
   "cell_type": "code",
   "execution_count": 40,
   "metadata": {},
   "outputs": [
    {
     "name": "stdout",
     "output_type": "stream",
     "text": [
      "Model Saved\n"
     ]
    }
   ],
   "source": [
    "model_filename= \"./model/bnb.mdl\"\n",
    "with open(model_filename, \"wb\") as file:\n",
    "    pk.dump(bnb, file)\n",
    "print(\"Model Saved\")"
   ]
  },
  {
   "cell_type": "code",
   "execution_count": null,
   "metadata": {},
   "outputs": [],
   "source": []
  }
 ],
 "metadata": {
  "kernelspec": {
   "display_name": "Python 3",
   "language": "python",
   "name": "python3"
  },
  "language_info": {
   "codemirror_mode": {
    "name": "ipython",
    "version": 3
   },
   "file_extension": ".py",
   "mimetype": "text/x-python",
   "name": "python",
   "nbconvert_exporter": "python",
   "pygments_lexer": "ipython3",
   "version": "3.6.4"
  }
 },
 "nbformat": 4,
 "nbformat_minor": 2
}
